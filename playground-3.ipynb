{
 "cells": [
  {
   "attachments": {},
   "cell_type": "markdown",
   "metadata": {},
   "source": [
    "### Instruksi:\n",
    "1. Buka buku Learn Python 3 The Hard Way.\n",
    "2. Di bawah ini ada Example dari beberapa Bab yang memuat Operator.\n",
    "3. Silakan kalian bisa latihan dengan melakukan dari yang diinstruksikan pada bagian \"Study Drill\" yang ada di bawah Example\n",
    "4. Bisa dibaca-baca bukunya agar mendapatkan wawasan lebih dari apa yang asisten berikan"
   ]
  },
  {
   "attachments": {},
   "cell_type": "markdown",
   "metadata": {},
   "source": [
    " "
   ]
  },
  {
   "attachments": {},
   "cell_type": "markdown",
   "metadata": {},
   "source": [
    "3: Numbers and Math"
   ]
  },
  {
   "cell_type": "code",
   "execution_count": null,
   "metadata": {},
   "outputs": [],
   "source": [
    "# ex3: Numbers and Math\n",
    "\n",
    "print(\"I will now count my chickens:\")\n",
    "\n",
    "print(\"Hens\", 25 + 30 / 6)\n",
    "print(\"Roosters\", 100 -25 * 3 % 4)\n",
    "\n",
    "print(\"Now I will count the eggs:\")\n",
    "\n",
    "print(3 + 2 + 1 - 5 + 4 % 2 - 1 / 4 + 6)\n",
    "\n",
    "print(\"Is it true that 3 + 2 < 5 - 7?\")\n",
    "\n",
    "print(3 + 2 < 5 - 7)\n",
    "\n",
    "print(\"What is 3 + 2?\", 3 + 2)\n",
    "\n",
    "print(\"What is 5 - 7?\", 5 - 7)\n",
    "\n",
    "print(\"Oh, that's why it's False.\")\n",
    "\n",
    "print(\"How about some more.\")\n",
    "\n",
    "print(\"Is it greater?\", 5 > -2)\n",
    "print(\"Is it greater or equal?\", 5 >= -2)\n",
    "print(\"Is it less or equal?\", 5 <= -2)"
   ]
  },
  {
   "cell_type": "code",
   "execution_count": 9,
   "metadata": {},
   "outputs": [
    {
     "name": "stdout",
     "output_type": "stream",
     "text": [
      "i will now count my chickens:\n",
      "Hens 30.0\n",
      "Roosters 97\n",
      "97\n",
      "Now I will count the eggs:\n",
      "6.75\n",
      "Is it true that 3 + 2 < 5 - 7?\n",
      "False\n",
      "What is 3 + 2? 5\n",
      "What is 5 - 7? -2\n",
      "Oh, that's why it's False.\n",
      "How about some more.\n",
      "Is it greater? True\n",
      "Is it greater or equal? True\n",
      "Is it less or equal? False\n"
     ]
    }
   ],
   "source": [
    "# Kerjakan Study Drill 3) di sini\n",
    "\n",
    "#mem-print \"i will now count my chickens:\"\n",
    "print(\"i will now count my chickens:\")\n",
    "\n",
    "#mem-print \"Hens\" dan menghitung 25 + 30 / 6 \n",
    "print(\"Hens\", 25 + 30 / 6)\n",
    "\n",
    "#mem-print \"Rooters\" dan menghitung 100 - 25 * 3 % 4\n",
    "print(\"Roosters\", 100 - 25 * 3 % 4) \n",
    "\n",
    "#mem-print hasil 100 - 25 * 3 % 4\n",
    "print(100 - 25 * 3 % 4) \n",
    "\n",
    "#mem-print \"Now i will count the eggs:\"\n",
    "print(\"Now I will count the eggs:\")\n",
    "\n",
    "#mem-print hasil 3 + 2 + 1 - 5 + 4 % 2 - 1 / 4 + 6 \n",
    "print(3 + 2 + 1 - 5 + 4 % 2 - 1 / 4 + 6) \n",
    "\n",
    "#mem-print \"Is it true that 3 + 2 < 5 - 7?\"\n",
    "print(\"Is it true that 3 + 2 < 5 - 7?\") \n",
    "\n",
    "#mem-print hasil 3 + 2 < 5 - 7 bernilai true/false\n",
    "print(3 + 2 < 5 - 7)\n",
    "\n",
    "#mem-print \"What is 3 + 2?\" dan hasil 3 + 2\n",
    "print(\"What is 3 + 2?\", 3 + 2)\n",
    "\n",
    "#mem-print \"What is 5 - 7?\" dan hasil 5 - 7\n",
    "print(\"What is 5 - 7?\", 5 - 7)\n",
    "\n",
    "#mem-print output \"Oh, that's why it's False.\"\n",
    "print(\"Oh, that's why it's False.\") \n",
    "\n",
    "#mem-print \"How about some more.\"\n",
    "print(\"How about some more.\") \n",
    "\n",
    "#mem-print \"Is it greater?\" dan hasil 5 > -2 bernilai true/false\n",
    "print(\"Is it greater?\", 5 > -2) \n",
    "\n",
    "#mem-print \"Is it greater or equal?\" dan hasil 5 >= -2 bernilai true/false\n",
    "print(\"Is it greater or equal?\", 5 >= -2) \n",
    "\n",
    "#mem-print \"Is it less or equal?\" dan hasil 5 <= -2 bernilai true/false\n",
    "print(\"Is it less or equal?\", 5 <= -2) "
   ]
  },
  {
   "attachments": {},
   "cell_type": "markdown",
   "metadata": {},
   "source": [
    "4: Variables and Names"
   ]
  },
  {
   "cell_type": "code",
   "execution_count": null,
   "metadata": {},
   "outputs": [],
   "source": [
    "cars = 100\n",
    "space_in_a_car = 4.0\n",
    "drivers = 30\n",
    "passengers = 90\n",
    "cars_not_driven = cars - drivers\n",
    "cars_driven = drivers\n",
    "carpool_capacity = cars_driven * space_in_a_car\n",
    "average_passengers_per_car = passengers / cars_driven\n",
    "\n",
    "print(\"There are\", cars, \"cars available.\")\n",
    "print(\"There are only\", drivers, \"drivers available.\")\n",
    "print(\"There will be\", cars_not_driven, \"empty cars today.\")\n",
    "print(\"We can transport\", carpool_capacity, \"people today.\")\n",
    "print(\"We have\", passengers, \"to carpool today.\")\n",
    "print(\"We need to put about\", average_passengers_per_car, \"in each car.\")"
   ]
  },
  {
   "cell_type": "code",
   "execution_count": 10,
   "metadata": {},
   "outputs": [
    {
     "name": "stdout",
     "output_type": "stream",
     "text": [
      "There are 100 cars available.\n",
      "There are only 30 drivers available.\n",
      "There will be 70 empty cars today.\n",
      "We can transport 120.0 people today.\n",
      "We have 90 to carpool today.\n",
      "We need to put about 3.0 in each car.\n"
     ]
    }
   ],
   "source": [
    "# Kerjakan Study Drill 4) di sini\n",
    "\n",
    "#membuat variabel cars\n",
    "cars = 100\n",
    "\n",
    "#membuat variabel space_in_a_car\n",
    "space_in_a_car = 4.0\n",
    "\n",
    "#membuat variabel drivers\n",
    "drivers = 30\n",
    "\n",
    "#membut variabel passengers\n",
    "passengers = 90\n",
    "\n",
    "#membut variabel cars_not_driven dengan rumus pengurangan cars dengan drivers\n",
    "cars_not_driven = cars - drivers\n",
    "\n",
    "#membuat variabel cars_driven yang sama dengan variabel drivers \n",
    "cars_driven = drivers\n",
    "\n",
    "#membuat variabel carpool_capacity dengan rumus mengalikan cars_driven dengan space_in_a_car\n",
    "carpool_capacity = cars_driven * space_in_a_car\n",
    "\n",
    "#membuat variabel average_passengers_per_car dengan rumus membagi passengers dengan cars_driven\n",
    "average_passengers_per_car = passengers / cars_driven\n",
    "\n",
    "#mem-print kalimat dan hasil variabel cars\n",
    "print(\"There are\", cars, \"cars available.\")\n",
    "\n",
    "#mem-print kalimat dan hasil variabel drivers\n",
    "print(\"There are only\", drivers, \"drivers available.\")\n",
    "\n",
    "#mem-print kalimat dan hasil variabel cars_not_driven\n",
    "print(\"There will be\", cars_not_driven, \"empty cars today.\")\n",
    "\n",
    "#mem-print kalimat dan hasl variabel carpool_capacity\n",
    "print(\"We can transport\", carpool_capacity, \"people today.\")\n",
    "\n",
    "#mem-print kalimat dan hasil variabel passengers\n",
    "print(\"We have\", passengers, \"to carpool today.\")\n",
    "\n",
    "#mem-print kalimat dan hasil variabel average_passengers_per_car\n",
    "print(\"We need to put about\", average_passengers_per_car, \"in each car.\")"
   ]
  },
  {
   "attachments": {},
   "cell_type": "markdown",
   "metadata": {},
   "source": [
    "### Instruksi:\n",
    "1. Tulis ulang kode contoh di atasnya dengan sebelumnya artikan dengan command (#)"
   ]
  },
  {
   "attachments": {},
   "cell_type": "markdown",
   "metadata": {},
   "source": [
    "Contoh\n",
    "\n",
    "Tulis program Python yang dapat menghitung luas dari Lingkaran dengan jari-jari yang diinput!"
   ]
  },
  {
   "cell_type": "code",
   "execution_count": null,
   "metadata": {},
   "outputs": [],
   "source": [
    "from math import pi\n",
    "r = float(input (\"Input the radius of the circle : \"))\n",
    "print (\"The area of the circle with radius \" + str(r) + \" is: \" + str(pi * r**2))"
   ]
  },
  {
   "cell_type": "code",
   "execution_count": 1,
   "metadata": {},
   "outputs": [
    {
     "name": "stdout",
     "output_type": "stream",
     "text": [
      "Luas lingkaran dengan jari-jari 3.0 adalah: 28.274333882308138\n"
     ]
    }
   ],
   "source": [
    "# import pi dari math library\n",
    "from math import pi\n",
    "\n",
    "# membuat variabel untuk user menginputkan nilai jari-jari\n",
    "r = float(input (\"Masukkan jari-jari lingkaran: \"))\n",
    "\n",
    "# Mem-print nilai luas lingkaran sekaligus menghitungnya\n",
    "print (\"Luas lingkaran dengan jari-jari \" + str(r) + \" adalah: \" + str(pi * r**2))"
   ]
  },
  {
   "attachments": {},
   "cell_type": "markdown",
   "metadata": {},
   "source": [
    "5: Tulis program Python untuk tambah, kurang, kali, dan bagi dari dua buah pecahan"
   ]
  },
  {
   "cell_type": "code",
   "execution_count": null,
   "metadata": {},
   "outputs": [],
   "source": [
    "import fractions\n",
    "\n",
    "f1 = fractions.Fraction(2, 3)\n",
    "f2 = fractions.Fraction(3, 7)\n",
    "\n",
    "print('{} + {} = {}'.format(f1, f2, f1 + f2))\n",
    "print('{} - {} = {}'.format(f1, f2, f1 - f2))\n",
    "print('{} * {} = {}'.format(f1, f2, f1 * f2))\n",
    "print('{} / {} = {}'.format(f1, f2, f1 / f2))"
   ]
  },
  {
   "cell_type": "code",
   "execution_count": 2,
   "metadata": {},
   "outputs": [
    {
     "name": "stdout",
     "output_type": "stream",
     "text": [
      "2/3 + 3/7 = 23/21\n",
      "2/3 - 3/7 = 5/21\n",
      "2/3 * 3/7 = 2/7\n",
      "2/3 / 3/7 = 14/9\n"
     ]
    }
   ],
   "source": [
    "# Kerjakan Study Drill 5 di sini\n",
    "\n",
    "#import pecahan\n",
    "import fractions\n",
    "\n",
    "#membuat variabel f1\n",
    "f1 = fractions.Fraction(2, 3)\n",
    "\n",
    "#membuat variabel f2\n",
    "f2 = fractions.Fraction(3, 7)\n",
    "\n",
    "#mem-print pertambahan f1 + f2 sekaligus menghitungnya\n",
    "print('{} + {} = {}'.format(f1, f2, f1 + f2))\n",
    "\n",
    "#mem-print pengurangan f1 - f2 sekaligus menghitungnya\n",
    "print('{} - {} = {}'.format(f1, f2, f1 - f2))\n",
    "\n",
    "#mem-print perkalian f1 * f2 sekaligus menghitungnya\n",
    "print('{} * {} = {}'.format(f1, f2, f1 * f2))\n",
    "\n",
    "#mem-print pembagian f1 / f2 sekaligus menghitungnya\n",
    "print('{} / {} = {}'.format(f1, f2, f1 / f2))"
   ]
  },
  {
   "attachments": {},
   "cell_type": "markdown",
   "metadata": {},
   "source": [
    "6: Tulis program Python yang akan menghitung luas dari segitiga dengan alas dan tinggi yang kamu inputkan!"
   ]
  },
  {
   "cell_type": "code",
   "execution_count": null,
   "metadata": {},
   "outputs": [],
   "source": [
    "b = int(input(\"Input alas : \"))\n",
    "h = int(input(\"Input tinggi : \"))\n",
    "\n",
    "luas = b*h/2\n",
    "\n",
    "print(\"luas = \", luas)"
   ]
  },
  {
   "cell_type": "code",
   "execution_count": 8,
   "metadata": {},
   "outputs": [
    {
     "name": "stdout",
     "output_type": "stream",
     "text": [
      "luas =  8.0\n"
     ]
    }
   ],
   "source": [
    "# Kerjakan Study Drill 6 di sini\n",
    "\n",
    "#membuat variabel b untuk user menginputkan nilai alas segitiga berupa integer (bilangan bulat)\n",
    "b = int(input(\"Input alas : \"))\n",
    "\n",
    "#membuat variabel h untuk user menginputkan nilai tinggi segitiga berupa integer (bilangan bulat)\n",
    "h = int(input(\"Input tinggi : \"))\n",
    "\n",
    "#membuat variabel luas segitiga dengan rumus untuk menghitung luas segitiga\n",
    "luas = b*h/2\n",
    "\n",
    "#mem-print luas segitiga sekaligus menghitungnya\n",
    "print(\"luas = \", luas)"
   ]
  },
  {
   "attachments": {},
   "cell_type": "markdown",
   "metadata": {},
   "source": [
    "7: Tulis program Python yang dapat menghitung luas permukaan dan volume dari Tabung!"
   ]
  },
  {
   "cell_type": "code",
   "execution_count": null,
   "metadata": {},
   "outputs": [],
   "source": [
    "pi=22/7\n",
    "tinggi = float(input('Tinggi dari Tabung: '))\n",
    "jarijari = float(input('Jari-jari dari Tabung: '))\n",
    "volume = pi * jarijari * jarijari * tinggi\n",
    "lp = ((2*pi*jarijari) * tinggi) + ((pi*jarijari**2)*2)\n",
    "print(\"Volume tabung adalah: \", volume)\n",
    "print(\"Luas permukaan tabung adalah: \", lp)"
   ]
  },
  {
   "cell_type": "code",
   "execution_count": 3,
   "metadata": {},
   "outputs": [
    {
     "name": "stdout",
     "output_type": "stream",
     "text": [
      "Volume tabung adalah:  201.14285714285714\n",
      "Luas permukaan tabung adalah:  201.14285714285714\n"
     ]
    }
   ],
   "source": [
    "# Kerjakan Study Drill 7 di sini\n",
    "\n",
    "#membuat variabel pi\n",
    "pi=22/7\n",
    "\n",
    "#membuat variabel tinggi untuk user menginputkan nilai tinggi tabung berupa float\n",
    "tinggi = float(input('Tinggi dari Tabung: '))\n",
    "\n",
    "#membuat variabel jarijari untuk user menginputkan nilai jari-jari tabung berupa float\n",
    "jarijari = float(input('Jari-jari dari Tabung: '))\n",
    "\n",
    "#membuat variabel volume dengan rumus untuk menghitung volume tabung\n",
    "volume = pi * jarijari * jarijari * tinggi\n",
    "\n",
    "#membuat variabel lp dengan rumus untuk menghitung luas permukaan tabung\n",
    "lp = ((2*pi*jarijari) * tinggi) + ((pi*jarijari**2)*2)\n",
    "\n",
    "#mem-print volume tabung sekaligus menghitungnya\n",
    "print(\"Volume tabung adalah: \", volume)\n",
    "\n",
    "#mem-print luas permukaan tabung sekaligus menghitungnya\n",
    "print(\"Luas permukaan tabung adalah: \", lp)"
   ]
  },
  {
   "attachments": {},
   "cell_type": "markdown",
   "metadata": {},
   "source": [
    "8: Tulis program Python untuk mendapatkan akar pangkat dua dan pangkat dari nilai desimal yang diberikan!"
   ]
  },
  {
   "cell_type": "code",
   "execution_count": null,
   "metadata": {},
   "outputs": [],
   "source": [
    "from decimal import *\n",
    "x = Decimal('1.44')\n",
    "print(\"Akar pangkat dua dari\",x, \"adalah :\", x.sqrt())\n",
    "print(\"Pangkat dua dari\",x, \" adalah :\", x.exp())\n"
   ]
  },
  {
   "cell_type": "code",
   "execution_count": 7,
   "metadata": {},
   "outputs": [
    {
     "name": "stdout",
     "output_type": "stream",
     "text": [
      "Akar pangkat dua dari 1.44 adalah : 1.2\n",
      "Pangkat dua dari 1.44  adalah : 4.220695816996552825673328929\n"
     ]
    }
   ],
   "source": [
    "# Kerjakan Study Drill 8 di sini\n",
    "\n",
    "#import * dari desimal\n",
    "from decimal import *\n",
    "\n",
    "#membuat variabel x\n",
    "x = Decimal('1.44')\n",
    "\n",
    "#mem-print akar pangkat dua dari x sekaligus menghitungnya \n",
    "print(\"Akar pangkat dua dari\",x, \"adalah :\", x.sqrt())\n",
    "\n",
    "#mem-print pangkat dua dari x sekaligus menghitungnya\n",
    "print(\"Pangkat dua dari\",x, \" adalah :\", x.exp())"
   ]
  },
  {
   "attachments": {},
   "cell_type": "markdown",
   "metadata": {},
   "source": [
    "9: Tulis program Python yang dapat menentukan apakah benar bilangan tersebut LEBIH BESAR dari 4^4 DAN jika di-MODULUS-kan 34 hasilnya adalah 4!"
   ]
  },
  {
   "cell_type": "code",
   "execution_count": null,
   "metadata": {},
   "outputs": [],
   "source": [
    "def test(n):\n",
    "    return n % 34 == 4 and n > 4 ** 4\n",
    "\n",
    "n = 922\n",
    "print(\"Original Integer:\")\n",
    "print(n)\n",
    "print(\"Apakah benar integer tersebut lebih besar dari 4^4 dan hasilnya 4 jika di-mod-kan dengan 34:\")\n",
    "\n",
    "print(test(n))\n",
    "\n",
    "n = 914\n",
    "print(\"\\nOriginal Integer:\")\n",
    "print(n)\n",
    "print(\"Apakah benar integer tersebut lebih besar dari 4^4 dan hasilnya 4 jika di-mod-kan dengan 34:\")\n",
    "print(test(n))\n",
    "\n",
    "n = 854\n",
    "print(\"\\nOriginal Integer:\")\n",
    "print(n)\n",
    "print(\"Apakah benar integer tersebut lebih besar dari 4^4 dan hasilnya 4 jika di-mod-kan dengan 34:\")\n",
    "print(test(n))"
   ]
  },
  {
   "cell_type": "code",
   "execution_count": 6,
   "metadata": {},
   "outputs": [
    {
     "name": "stdout",
     "output_type": "stream",
     "text": [
      "Original Integer:\n",
      "922\n",
      "Apakah benar integer tersebut lebih besar dari 4^4 dan hasilnya 4 jika di-mod-kan dengan 34:\n",
      "True\n",
      "\n",
      "Original Integer:\n",
      "914\n",
      "Apakah benar integer tersebut lebih besar dari 4^4 dan hasilnya 4 jika di-mod-kan dengan 34:\n",
      "False\n",
      "\n",
      "Original Integer:\n",
      "854\n",
      "Apakah benar integer tersebut lebih besar dari 4^4 dan hasilnya 4 jika di-mod-kan dengan 34:\n",
      "True\n"
     ]
    }
   ],
   "source": [
    "# Kerjakan Study Drill 9 di sini\n",
    "## Kalian bisa coba membuktikan dengan menghitung hasil dari 4^4 dan mod 34 dari bilangan integernya\n",
    "\n",
    "#mengambil fungsi\n",
    "def test(n):\n",
    "    #untuk mengembalikan fungsi\n",
    "    return n % 34 == 4 and n > 4 ** 4\n",
    "\n",
    "#membuat variabel n\n",
    "n = 922\n",
    "\n",
    "#mem-print \"Original Integer:\"\n",
    "print(\"Original Integer:\")\n",
    "\n",
    "#mem-print variabel n\n",
    "print(n)\n",
    "\n",
    "#mem-print kalimat\n",
    "print(\"Apakah benar integer tersebut lebih besar dari 4^4 dan hasilnya 4 jika di-mod-kan dengan 34:\")\n",
    "\n",
    "#mem-print hasil \n",
    "print(test(n))\n",
    "\n",
    "#membuat variabel n\n",
    "n = 914\n",
    "\n",
    "#mem-print \"Original Integer:\"\n",
    "print(\"\\nOriginal Integer:\")\n",
    "\n",
    "#mem-print variabel n\n",
    "print(n)\n",
    "\n",
    "#mem-print kalimat\n",
    "print(\"Apakah benar integer tersebut lebih besar dari 4^4 dan hasilnya 4 jika di-mod-kan dengan 34:\")\n",
    "\n",
    "#mem-print hasil \n",
    "print(test(n))\n",
    "\n",
    "#membuat variabel n\n",
    "n = 854\n",
    "\n",
    "#mem-print \"Original Integer:\"\n",
    "print(\"\\nOriginal Integer:\")\n",
    "\n",
    "#mem-print variabel n\n",
    "print(n)\n",
    "\n",
    "#mem-print kalimat\n",
    "print(\"Apakah benar integer tersebut lebih besar dari 4^4 dan hasilnya 4 jika di-mod-kan dengan 34:\")\n",
    "\n",
    "#mem-print hasil \n",
    "print(test(n))"
   ]
  },
  {
   "attachments": {},
   "cell_type": "markdown",
   "metadata": {},
   "source": [
    "10: Tulis program Python yang dapat menyimpan nama depan dan nama belakang user dan mem-print-nya dengan dibalik antara keduanya!\n"
   ]
  },
  {
   "cell_type": "code",
   "execution_count": null,
   "metadata": {},
   "outputs": [],
   "source": [
    "fname = input(\"Input your First Name : \")\n",
    "lname = input(\"Input your Last Name : \")\n",
    "print (\"Hello  \" + lname + \" \" + fname)"
   ]
  },
  {
   "cell_type": "code",
   "execution_count": 5,
   "metadata": {},
   "outputs": [
    {
     "name": "stdout",
     "output_type": "stream",
     "text": [
      "Hello  Arilfa Novita\n"
     ]
    }
   ],
   "source": [
    "# Kerjakan Study Drill 10 di sini\n",
    "\n",
    "#membuat variabel untuk user menginputkan first name\n",
    "fname = input(\"Input your First Name : \")\n",
    "\n",
    "#membuat variabel untuk user menginputkan last name\n",
    "lname = input(\"Input your Last Name : \")\n",
    "\n",
    "#mem-print \"Hello\" serta hasil variabel lname dan fname\n",
    "print (\"Hello  \" + lname + \" \" + fname)\n"
   ]
  }
 ],
 "metadata": {
  "kernelspec": {
   "display_name": "Python 3",
   "language": "python",
   "name": "python3"
  },
  "language_info": {
   "codemirror_mode": {
    "name": "ipython",
    "version": 3
   },
   "file_extension": ".py",
   "mimetype": "text/x-python",
   "name": "python",
   "nbconvert_exporter": "python",
   "pygments_lexer": "ipython3",
   "version": "3.11.2"
  },
  "orig_nbformat": 4
 },
 "nbformat": 4,
 "nbformat_minor": 2
}
